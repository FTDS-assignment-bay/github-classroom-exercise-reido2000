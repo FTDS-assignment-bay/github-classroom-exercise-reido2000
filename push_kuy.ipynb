{
 "cells": [
  {
   "cell_type": "markdown",
   "metadata": {},
   "source": [
    "1. `git clone <link ssh>' assignment\n",
    "2. `cd ke repo di local device kalian\n",
    "3. buat file tugas atau copas dari folder sebelum repo terbentuk\n",
    "4. `git status` untuk file terbaru tsb -> harusnya warna file merah\n",
    "5. `git add.` utk masukan seluruh file di repo lokal ke stage mode\n",
    "6. `git status` sekarang file yg tadinya warna merah mjd hijau\n",
    "7. `git commit` -m \"final_push\" untuk commit tugas dan memberikan massage (-m)\\\n",
    "8. `git push` untuk push ke github kalian\n",
    "9. make sure di github kalian file baru tlah terupload"
   ]
  },
  {
   "cell_type": "markdown",
   "metadata": {},
   "source": [
    "# Notebook\n",
    "## Subheading 1\n",
    "### Subheading 2\n",
    "###### Subheading 6"
   ]
  },
  {
   "cell_type": "markdown",
   "metadata": {},
   "source": []
  },
  {
   "cell_type": "code",
   "execution_count": null,
   "metadata": {},
   "outputs": [],
   "source": []
  },
  {
   "cell_type": "markdown",
   "metadata": {},
   "source": [
    "Barang\n",
    "1. Dapur\n",
    "    - sendok\n",
    "    - garpu \n",
    "    - piring\n",
    "2. Kamar Mandi\n",
    "    - Handuk\n",
    "3. Kamar Tidur\n",
    "    - guling \n",
    "    - bantal"
   ]
  },
  {
   "cell_type": "markdown",
   "metadata": {},
   "source": [
    "**bold**   \n",
    "*italic*  \n",
    "***bold_italic***  \n",
    "\n",
    "spasi 2 / enter untuk kebawah"
   ]
  },
  {
   "cell_type": "markdown",
   "metadata": {},
   "source": [
    "Membedakan cell codedi markdown biasanya pakai petik ```\n",
    "\n",
    "sql \n",
    "```"
   ]
  },
  {
   "cell_type": "code",
   "execution_count": 1,
   "metadata": {},
   "outputs": [
    {
     "data": {
      "text/plain": [
       "2"
      ]
     },
     "execution_count": 1,
     "metadata": {},
     "output_type": "execute_result"
    }
   ],
   "source": [
    "1+1"
   ]
  },
  {
   "cell_type": "markdown",
   "metadata": {},
   "source": []
  },
  {
   "cell_type": "markdown",
   "metadata": {},
   "source": []
  },
  {
   "cell_type": "code",
   "execution_count": null,
   "metadata": {},
   "outputs": [],
   "source": []
  },
  {
   "cell_type": "markdown",
   "metadata": {},
   "source": [
    "1. `git clone <>' assignment\n",
    "2. `cd ke repo di local device kalian\n",
    "3. buat file tugas atau copas dari folder sebelum repo terbentuk\n",
    "4. `git status` untuk file terbaru tsb -> harusnya warna file merah\n",
    "5. `git add.` utk masukan seluruh file di repo lokal ke stage mode\n",
    "6. `git status` sekarang file yg tadinya warna merah mjd hijau\n",
    "7. `git commit -m \"final_push\" untuk commit tugas dan memberikan massage (-m)\\\n",
    "8. git push untuk push ke github kalian\n",
    "9. make sure di github kalian file baru tlah terupload\n"
   ]
  }
 ],
 "metadata": {
  "kernelspec": {
   "display_name": "base",
   "language": "python",
   "name": "python3"
  },
  "language_info": {
   "codemirror_mode": {
    "name": "ipython",
    "version": 3
   },
   "file_extension": ".py",
   "mimetype": "text/x-python",
   "name": "python",
   "nbconvert_exporter": "python",
   "pygments_lexer": "ipython3",
   "version": "3.12.7"
  }
 },
 "nbformat": 4,
 "nbformat_minor": 2
}
